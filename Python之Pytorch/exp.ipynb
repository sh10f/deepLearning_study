{
 "cells": [
  {
   "cell_type": "code",
   "execution_count": 1,
   "id": "e3451579-86d4-4092-8b2a-b20940bc7dc0",
   "metadata": {},
   "outputs": [],
   "source": [
    "import torch"
   ]
  },
  {
   "cell_type": "code",
   "execution_count": 7,
   "id": "0d41f657-e960-4966-b044-bfaae5ed702c",
   "metadata": {},
   "outputs": [],
   "source": [
    "def create():\n",
    "    #/********** Begin *********/\n",
    "    #创建一个32位有符号的整数张量t\n",
    "    t = torch.ByteTensor(2,2,4)\n",
    "    #/********** End *********/\n",
    "    return t"
   ]
  },
  {
   "cell_type": "code",
   "execution_count": 8,
   "id": "6dbf3f4f-fdc3-4ecb-a958-e2fb5852f6e7",
   "metadata": {},
   "outputs": [
    {
     "name": "stdout",
     "output_type": "stream",
     "text": [
      "tensor([[[0, 0, 0, 0],\n",
      "         [0, 0, 0, 0]],\n",
      "\n",
      "        [[0, 0, 0, 0],\n",
      "         [0, 0, 0, 0]]], dtype=torch.uint8)\n"
     ]
    },
    {
     "data": {
      "text/plain": [
       "\u001b[1;31mInit signature:\u001b[0m \u001b[0mtorch\u001b[0m\u001b[1;33m.\u001b[0m\u001b[0mTensor\u001b[0m\u001b[1;33m(\u001b[0m\u001b[0mself\u001b[0m\u001b[1;33m,\u001b[0m \u001b[1;33m/\u001b[0m\u001b[1;33m,\u001b[0m \u001b[1;33m*\u001b[0m\u001b[0margs\u001b[0m\u001b[1;33m,\u001b[0m \u001b[1;33m**\u001b[0m\u001b[0mkwargs\u001b[0m\u001b[1;33m)\u001b[0m\u001b[1;33m\u001b[0m\u001b[1;33m\u001b[0m\u001b[0m\n",
       "\u001b[1;31mDocstring:\u001b[0m      <no docstring>\n",
       "\u001b[1;31mFile:\u001b[0m           c:\\users\\lenovo\\anaconda3\\lib\\site-packages\\torch\\__init__.py\n",
       "\u001b[1;31mType:\u001b[0m           _TensorMeta\n",
       "\u001b[1;31mSubclasses:\u001b[0m     Parameter, UninitializedBuffer, TensorMeta"
      ]
     },
     "metadata": {},
     "output_type": "display_data"
    }
   ],
   "source": [
    "t = create()\n",
    "print(t)\n",
    "torch.Tensor?"
   ]
  },
  {
   "cell_type": "markdown",
   "id": "aad3c8f2-e64c-4e77-8507-db31ac8f1035",
   "metadata": {},
   "source": [
    "# Tensor 切片及其索引"
   ]
  },
  {
   "cell_type": "markdown",
   "id": "04d92157-a793-4560-9264-221b835e5752",
   "metadata": {},
   "source": [
    "* 一维切片"
   ]
  },
  {
   "cell_type": "code",
   "execution_count": 10,
   "id": "2bf27cce-13b9-4a79-9367-5511157585c8",
   "metadata": {},
   "outputs": [
    {
     "name": "stdout",
     "output_type": "stream",
     "text": [
      "tensor([0., 1., 2., 3., 4., 5., 6., 7., 8., 9.])\n"
     ]
    }
   ],
   "source": [
    "t = torch.Tensor(range(10))\n",
    "print(t)"
   ]
  },
  {
   "cell_type": "code",
   "execution_count": 13,
   "id": "02f73ac4-525e-4d13-b8ac-d05537cdfdae",
   "metadata": {},
   "outputs": [
    {
     "name": "stdout",
     "output_type": "stream",
     "text": [
      "tensor([0., 2., 4.])\n",
      "tensor([0., 2., 4.])\n"
     ]
    }
   ],
   "source": [
    "# slice 与 直接切片 的结果是一致的\n",
    "# slice\n",
    "print(t[slice(0, 5, 2)])\n",
    "\n",
    "# python\n",
    "print(t[0: 5: 2])"
   ]
  },
  {
   "cell_type": "markdown",
   "id": "721ab476-5e1e-4a03-9091-11602a284b6b",
   "metadata": {},
   "source": [
    "* 二维切片\n",
    "    * 基本格式 --- `tensor[r1 : r2 : step, c1 : c2 : step]`\n",
    "    * r --- row, c --- column"
   ]
  },
  {
   "cell_type": "code",
   "execution_count": 15,
   "id": "f46f2bf0-794e-4279-a69a-733f00cbafda",
   "metadata": {},
   "outputs": [
    {
     "name": "stdout",
     "output_type": "stream",
     "text": [
      "torch.Size([4, 3])\n"
     ]
    }
   ],
   "source": [
    "tensor = torch.Tensor([[1,2,3],[4,5,6],[7,8,9],[10,11,12]])\n",
    "print(tensor.shape)"
   ]
  },
  {
   "cell_type": "code",
   "execution_count": 17,
   "id": "7dd50d87-2337-452e-b372-39bb02c624eb",
   "metadata": {},
   "outputs": [
    {
     "name": "stdout",
     "output_type": "stream",
     "text": [
      "tensor([[1., 2., 3.],\n",
      "        [7., 8., 9.]])\n"
     ]
    }
   ],
   "source": [
    "tensor_slice = tensor[0:3:2, :]\n",
    "print(tensor_slice)\n"
   ]
  },
  {
   "cell_type": "markdown",
   "id": "9ab79131-2575-4763-a134-a2bb351937d2",
   "metadata": {},
   "source": [
    "* Pytorch 常用切片函数\n",
    "    * `torch.chunk(tensor, chunks, dim = 0)`\n",
    "        * tensor --- 待切片张量\n",
    "        * chunks --- int，返回块数\n",
    "        * dim --- int，切片维度,隔板朝着哪个维度\n",
    "    * `torch.cat(tensor, dim = 0)`\n",
    "        * 张量拼接\n",
    "        * tensor --- 张量\n",
    "        * dim --- int，切片维度,隔板朝着哪个维度\n",
    "    * `torch.unsqueeze(input, dim, output = None)`\n",
    "        * 张量增加维度\n",
    "        * unsqueeze --- squeeze(挤压)"
   ]
  },
  {
   "cell_type": "code",
   "execution_count": 23,
   "id": "68c67a9b-e075-496c-8ceb-d9124b078556",
   "metadata": {},
   "outputs": [
    {
     "name": "stdout",
     "output_type": "stream",
     "text": [
      "(tensor([[ 1.],\n",
      "        [ 4.],\n",
      "        [ 7.],\n",
      "        [10.]]), tensor([[ 2.],\n",
      "        [ 5.],\n",
      "        [ 8.],\n",
      "        [11.]]), tensor([[ 3.],\n",
      "        [ 6.],\n",
      "        [ 9.],\n",
      "        [12.]]))\n",
      "<class 'tuple'>\n"
     ]
    }
   ],
   "source": [
    "tensor_slice = torch.chunk(tensor, 3, 1)\n",
    "print(tensor_slice)\n",
    "print(type(tensor_slice))"
   ]
  },
  {
   "cell_type": "code",
   "execution_count": 30,
   "id": "00ee1319-f5c1-4197-b72c-3a4bf3a228cb",
   "metadata": {},
   "outputs": [
    {
     "name": "stdout",
     "output_type": "stream",
     "text": [
      "tensor([[1.0000e+00, 2.0000e+00, 3.0000e+00],\n",
      "        [4.0000e+00, 5.0000e+00, 6.0000e+00],\n",
      "        [7.0000e+00, 8.0000e+00, 9.0000e+00],\n",
      "        [1.0000e+01, 1.1000e+01, 1.2000e+01],\n",
      "        [3.9985e-31, 4.5907e-41, 0.0000e+00]])\n",
      "tensor([[[1.0000e+00, 2.0000e+00, 3.0000e+00],\n",
      "         [4.0000e+00, 5.0000e+00, 6.0000e+00],\n",
      "         [7.0000e+00, 8.0000e+00, 9.0000e+00],\n",
      "         [1.0000e+01, 1.1000e+01, 1.2000e+01],\n",
      "         [3.9985e-31, 4.5907e-41, 0.0000e+00]]])\n",
      "torch.Size([1, 5, 3])\n"
     ]
    }
   ],
   "source": [
    "# torch.cat\n",
    "# dim 相当与有个隔板\n",
    "tensor = torch.Tensor([[1,2,3],[4,5,6],[7,8,9],[10,11,12]])\n",
    "tt = torch.cat((tensor, torch.Tensor(1, 3)), 0)\n",
    "print(tt)\n",
    "\n",
    "# torch.unsqueeze\n",
    "tt_unsq = torch.unsqueeze(tt, 0)\n",
    "print(tt_unsq)\n",
    "print(tt_unsq.shape)"
   ]
  },
  {
   "cell_type": "markdown",
   "id": "02230b14-b898-4315-a41d-f857335046ff",
   "metadata": {},
   "source": [
    "# 数学运算\n",
    "![torch数学运算函数](.\\img\\数学运算.png)"
   ]
  },
  {
   "cell_type": "code",
   "execution_count": 42,
   "id": "1b3ed4be-071a-4431-8cd1-be68d6148c08",
   "metadata": {},
   "outputs": [
    {
     "name": "stdout",
     "output_type": "stream",
     "text": [
      "tensor([5, 5], dtype=torch.int32)\n",
      "tensor([5, 5], dtype=torch.int32)\n",
      "tensor([5, 5], dtype=torch.int32)\n",
      "tensor([3, 2], dtype=torch.int32)\n",
      "-------- y.add_ ---------\n",
      "tensor([5, 5], dtype=torch.int32)\n",
      "tensor([5, 5], dtype=torch.int32)\n"
     ]
    }
   ],
   "source": [
    "# 直接相加\n",
    "x = torch.IntTensor((2, 3))\n",
    "y = torch.IntTensor((3, 2))\n",
    "print(x + y)\n",
    "\n",
    "# torch.add\n",
    "print(torch.add(x, y))\n",
    "\n",
    "# y.add(x) --- 返回一个新的tensor\n",
    "# y.add_(x) --- 原地求和，y被改变\n",
    "print(y.add(x))\n",
    "print(y)\n",
    "\n",
    "print(\"-------- y.add_ ---------\")\n",
    "print(y.add_(x))\n",
    "print(y)"
   ]
  },
  {
   "cell_type": "code",
   "execution_count": 44,
   "id": "d972246b-bcd4-4ce4-934d-0bf38a5e510d",
   "metadata": {},
   "outputs": [
    {
     "name": "stdout",
     "output_type": "stream",
     "text": [
      "Round :tensor([[ 2., -6.,  9.,  2.,  4.],\n",
      "        [ 4., -9.,  7., -5.,  4.]])\n",
      "Sign :tensor([[ 1., -1.,  1.,  1.,  1.],\n",
      "        [ 1., -1.,  1., -1.,  1.]])\n"
     ]
    }
   ],
   "source": [
    "t = torch.Tensor([[2.4,-5.6,8.6,2.1,4],[3.5,-9.3,6.7,-5,4.23]])\n",
    "#/********** Begin *********/\n",
    "#输出一个新张量，元素为输入的元素四舍五入到最接近的整数\n",
    "print(\"Round :{}\".format(torch.round(t)))\n",
    "#输出一个新张量，元素为输入的元素的符号，正为1，负为-1\n",
    "print(\"Sign :{}\".format(torch.sign(t)))\n",
    "#/********** End *********/"
   ]
  },
  {
   "cell_type": "markdown",
   "id": "2f7c7ec1-d60c-4b75-8fc5-bb04bcc7c607",
   "metadata": {},
   "source": [
    "# Reshape\n",
    "* `view()`\n",
    "    * 用途：返回具有相同数据但大小不同的新张量\n",
    "    * args（torch.Size或 int ... ） ： 所需的大小\n",
    "* `x.t()`\n",
    "    * 用途：将输入的2D张量转置其维度0和1。\n",
    "* `torch.transpose(input, dim0, dim1, out=None) → Tensor`\n",
    "    * 给定的维度dim0和dim1被交换。\n",
    "* `y.transpose(dim0, dim1)`"
   ]
  },
  {
   "cell_type": "code",
   "execution_count": 46,
   "id": "1932c94f-a4d4-445a-8d35-e8e5a4c7bf75",
   "metadata": {},
   "outputs": [
    {
     "name": "stdout",
     "output_type": "stream",
     "text": [
      "torch.Size([5, 10, 15])\n",
      "torch.Size([50, 15])\n",
      "torch.Size([50, 1, 15])\n"
     ]
    }
   ],
   "source": [
    "y = torch.randn(5, 10, 15)\n",
    "print(y.size())\n",
    "print(y.view(-1, 15).size())  # Same as doing y.view(50, 15)\n",
    "print(y.view(-1, 15).unsqueeze(1).size()) # Adds a dimension at index 1."
   ]
  },
  {
   "cell_type": "code",
   "execution_count": 48,
   "id": "ab736e1d-7643-47f8-8b02-7e0ca1767474",
   "metadata": {},
   "outputs": [
    {
     "name": "stdout",
     "output_type": "stream",
     "text": [
      "torch.Size([40, 4])\n"
     ]
    }
   ],
   "source": [
    "t = torch.randn(2, 10, 8)\n",
    "print(t.view(40, 4).size())"
   ]
  },
  {
   "cell_type": "code",
   "execution_count": null,
   "id": "661b0e22-39ba-4764-a75e-cd01a00a823b",
   "metadata": {},
   "outputs": [],
   "source": []
  }
 ],
 "metadata": {
  "kernelspec": {
   "display_name": "Python 3 (ipykernel)",
   "language": "python",
   "name": "python3"
  },
  "language_info": {
   "codemirror_mode": {
    "name": "ipython",
    "version": 3
   },
   "file_extension": ".py",
   "mimetype": "text/x-python",
   "name": "python",
   "nbconvert_exporter": "python",
   "pygments_lexer": "ipython3",
   "version": "3.10.9"
  }
 },
 "nbformat": 4,
 "nbformat_minor": 5
}
